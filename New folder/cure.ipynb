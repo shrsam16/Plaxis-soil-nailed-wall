{
 "cells": [
  {
   "cell_type": "code",
   "execution_count": 17,
   "metadata": {},
   "outputs": [],
   "source": [
    "import matplotlib.pyplot as plt\n",
    "import pandas as pd\n"
   ]
  },
  {
   "cell_type": "code",
   "execution_count": 18,
   "metadata": {},
   "outputs": [
    {
     "data": {
      "text/html": [
       "<div>\n",
       "<style scoped>\n",
       "    .dataframe tbody tr th:only-of-type {\n",
       "        vertical-align: middle;\n",
       "    }\n",
       "\n",
       "    .dataframe tbody tr th {\n",
       "        vertical-align: top;\n",
       "    }\n",
       "\n",
       "    .dataframe thead th {\n",
       "        text-align: right;\n",
       "    }\n",
       "</style>\n",
       "<table border=\"1\" class=\"dataframe\">\n",
       "  <thead>\n",
       "    <tr style=\"text-align: right;\">\n",
       "      <th></th>\n",
       "      <th>S.N.</th>\n",
       "      <th>E</th>\n",
       "      <th>Gam</th>\n",
       "      <th>phi</th>\n",
       "      <th>C</th>\n",
       "      <th>Neu</th>\n",
       "      <th>dil</th>\n",
       "      <th>ExDep</th>\n",
       "      <th>Bfill</th>\n",
       "      <th>Plthk</th>\n",
       "      <th>FAng</th>\n",
       "      <th>Inc</th>\n",
       "      <th>Sp</th>\n",
       "      <th>Len</th>\n",
       "      <th>FOS</th>\n",
       "      <th>Dis</th>\n",
       "    </tr>\n",
       "  </thead>\n",
       "  <tbody>\n",
       "    <tr>\n",
       "      <th>0</th>\n",
       "      <td>1</td>\n",
       "      <td>5000</td>\n",
       "      <td>22.5</td>\n",
       "      <td>26</td>\n",
       "      <td>5</td>\n",
       "      <td>0.3</td>\n",
       "      <td>0</td>\n",
       "      <td>2</td>\n",
       "      <td>0</td>\n",
       "      <td>150</td>\n",
       "      <td>5</td>\n",
       "      <td>15</td>\n",
       "      <td>0.5</td>\n",
       "      <td>1.2</td>\n",
       "      <td>1.613</td>\n",
       "      <td>-0.019</td>\n",
       "    </tr>\n",
       "    <tr>\n",
       "      <th>1</th>\n",
       "      <td>2</td>\n",
       "      <td>5000</td>\n",
       "      <td>22.5</td>\n",
       "      <td>26</td>\n",
       "      <td>5</td>\n",
       "      <td>0.3</td>\n",
       "      <td>0</td>\n",
       "      <td>2</td>\n",
       "      <td>0</td>\n",
       "      <td>150</td>\n",
       "      <td>5</td>\n",
       "      <td>15</td>\n",
       "      <td>0.5</td>\n",
       "      <td>1.0</td>\n",
       "      <td>1.460</td>\n",
       "      <td>-0.024</td>\n",
       "    </tr>\n",
       "    <tr>\n",
       "      <th>2</th>\n",
       "      <td>3</td>\n",
       "      <td>5000</td>\n",
       "      <td>22.5</td>\n",
       "      <td>26</td>\n",
       "      <td>5</td>\n",
       "      <td>0.3</td>\n",
       "      <td>0</td>\n",
       "      <td>2</td>\n",
       "      <td>0</td>\n",
       "      <td>150</td>\n",
       "      <td>5</td>\n",
       "      <td>15</td>\n",
       "      <td>0.5</td>\n",
       "      <td>0.8</td>\n",
       "      <td>1.328</td>\n",
       "      <td>-0.039</td>\n",
       "    </tr>\n",
       "    <tr>\n",
       "      <th>3</th>\n",
       "      <td>4</td>\n",
       "      <td>5000</td>\n",
       "      <td>22.5</td>\n",
       "      <td>26</td>\n",
       "      <td>5</td>\n",
       "      <td>0.3</td>\n",
       "      <td>0</td>\n",
       "      <td>2</td>\n",
       "      <td>0</td>\n",
       "      <td>150</td>\n",
       "      <td>5</td>\n",
       "      <td>15</td>\n",
       "      <td>0.7</td>\n",
       "      <td>1.2</td>\n",
       "      <td>1.303</td>\n",
       "      <td>-0.034</td>\n",
       "    </tr>\n",
       "    <tr>\n",
       "      <th>4</th>\n",
       "      <td>5</td>\n",
       "      <td>5000</td>\n",
       "      <td>22.5</td>\n",
       "      <td>26</td>\n",
       "      <td>5</td>\n",
       "      <td>0.3</td>\n",
       "      <td>0</td>\n",
       "      <td>2</td>\n",
       "      <td>0</td>\n",
       "      <td>150</td>\n",
       "      <td>5</td>\n",
       "      <td>15</td>\n",
       "      <td>0.7</td>\n",
       "      <td>1.0</td>\n",
       "      <td>1.262</td>\n",
       "      <td>-0.062</td>\n",
       "    </tr>\n",
       "  </tbody>\n",
       "</table>\n",
       "</div>"
      ],
      "text/plain": [
       "   S.N.     E   Gam  phi  C  Neu  dil  ExDep  Bfill  Plthk  FAng  Inc   Sp  \\\n",
       "0     1  5000  22.5   26  5  0.3    0      2      0    150     5   15  0.5   \n",
       "1     2  5000  22.5   26  5  0.3    0      2      0    150     5   15  0.5   \n",
       "2     3  5000  22.5   26  5  0.3    0      2      0    150     5   15  0.5   \n",
       "3     4  5000  22.5   26  5  0.3    0      2      0    150     5   15  0.7   \n",
       "4     5  5000  22.5   26  5  0.3    0      2      0    150     5   15  0.7   \n",
       "\n",
       "   Len    FOS    Dis  \n",
       "0  1.2  1.613 -0.019  \n",
       "1  1.0  1.460 -0.024  \n",
       "2  0.8  1.328 -0.039  \n",
       "3  1.2  1.303 -0.034  \n",
       "4  1.0  1.262 -0.062  "
      ]
     },
     "execution_count": 18,
     "metadata": {},
     "output_type": "execute_result"
    }
   ],
   "source": [
    "df = pd.read_csv('curve_very_soft_soil.csv')\n",
    "df.head()"
   ]
  },
  {
   "cell_type": "code",
   "execution_count": 19,
   "metadata": {},
   "outputs": [
    {
     "name": "stdout",
     "output_type": "stream",
     "text": [
      "[2, 2, 2, 4, 4]\n",
      "[1.2, 1.2, 1.0, 1.2, 1.2]\n",
      "[0.5, 0.5, 0.5, 0.5, 0.5]\n"
     ]
    },
    {
     "data": {
      "text/plain": [
       "<Figure size 1000x600 with 0 Axes>"
      ]
     },
     "metadata": {},
     "output_type": "display_data"
    }
   ],
   "source": [
    "exDepth = [ ]\n",
    "length = [ ]\n",
    "spacing = [ ]\n",
    "plt.figure(figsize=(10,6))\n",
    "for i in range (len(df)):\n",
    "    if df.iloc[i,-2]>1.5 and df.iloc[i,-2]<1.7 and df.iloc[i,-1]< (df.iloc[i,7]/333):\n",
    "\n",
    "        # Assuming you have data for length, spacing and exDepth\n",
    "        exDepth.append(df.iloc[i,7])\n",
    "        length.append(df.iloc[i,13])\n",
    "        spacing.append(df.iloc[i,12])\n",
    "print(exDepth)\n",
    "print(length)\n",
    "print(spacing)"
   ]
  },
  {
   "cell_type": "code",
   "execution_count": 20,
   "metadata": {},
   "outputs": [
    {
     "data": {
      "text/plain": [
       "<Figure size 1000x600 with 0 Axes>"
      ]
     },
     "metadata": {},
     "output_type": "display_data"
    },
    {
     "data": {
      "image/png": "[encoded data removed]",
      "text/plain": [
       "<Figure size 640x480 with 2 Axes>"
      ]
     },
     "metadata": {},
     "output_type": "display_data"
    }
   ],
   "source": [
    "exDepth = []\n",
    "length = []\n",
    "spacing = []\n",
    "\n",
    "plt.figure(figsize=(10,6))\n",
    "\n",
    "for i in range(len(df)):\n",
    "    if df.iloc[i,-2]>1.5 and df.iloc[i,-2]<1.7 and df.iloc[i,-1]< (df.iloc[i,7]/333):\n",
    "        exDepth.append(df.iloc[i,7])\n",
    "        length.append(df.iloc[i,13])\n",
    "        spacing.append(df.iloc[i,12])\n",
    "\n",
    "fig, ax1 = plt.subplots()\n",
    "\n",
    "color = 'black'\n",
    "ax1.set_xlabel('exDepth')\n",
    "ax1.set_ylabel('length', color=color)\n",
    "scatter1 = ax1.scatter(exDepth, length, color=color, marker='o', label='length')  # circle markers\n",
    "ax1.tick_params(axis='y', labelcolor=color)\n",
    "ax1.set_yticks([0.8, 1, 1.2])\n",
    "\n",
    "ax2 = ax1.twinx()  \n",
    "ax2.set_ylabel('spacing', color=color)  \n",
    "scatter2 = ax2.scatter(exDepth, spacing, color=color, marker='x', label='spacing')  # cross markers\n",
    "ax2.tick_params(axis='y', labelcolor=color)\n",
    "ax2.set_yticks([0.5, 0.7, 0.9])\n",
    "\n",
    "plt.xticks([2, 4, 6, 8, 10])  # Set x-axis ticks\n",
    "\n",
    "# Adding legend\n",
    "plt.legend([scatter1, scatter2], ['length', 'spacing'])\n",
    "\n",
    "fig.tight_layout()  \n",
    "plt.show()"
   ]
  },
  {
   "cell_type": "code",
   "execution_count": 21,
   "metadata": {},
   "outputs": [
    {
     "data": {
      "text/plain": [
       "<Figure size 1000x600 with 0 Axes>"
      ]
     },
     "metadata": {},
     "output_type": "display_data"
    },
    {
     "data": {
      "image/png": "[encoded data removed]",
      "text/plain": [
       "<Figure size 640x480 with 2 Axes>"
      ]
     },
     "metadata": {},
     "output_type": "display_data"
    }
   ],
   "source": [
    "\n",
    "\n",
    "exDepth = []\n",
    "length = []\n",
    "spacing = []\n",
    "\n",
    "plt.figure(figsize=(10,6))\n",
    "\n",
    "for i in range(len(df)):\n",
    "    if df.iloc[i,-2]>1.5 and df.iloc[i,-2]<1.7 and df.iloc[i,-1]< (df.iloc[i,7]/333):\n",
    "        exDepth.append(df.iloc[i,7])\n",
    "        length.append(df.iloc[i,13])\n",
    "        spacing.append(df.iloc[i,12])\n",
    "\n",
    "fig, ax1 = plt.subplots()\n",
    "\n",
    "color = 'black'\n",
    "ax1.set_xlabel('exDepth')\n",
    "ax1.set_ylabel('length', color=color)\n",
    "scatter1 = ax1.scatter(exDepth, length, color=color, marker='o', label='length')  # circle markers\n",
    "ax1.tick_params(axis='y', labelcolor=color)\n",
    "\n",
    "ax2 = ax1.twinx()  \n",
    "ax2.set_ylabel('spacing', color=color)  \n",
    "scatter2 = ax2.scatter(exDepth, spacing, color=color, marker='x', label='spacing')  # cross markers\n",
    "ax2.tick_params(axis='y', labelcolor=color)\n",
    "\n",
    "\n",
    "\n",
    "plt.xticks([2, 4, 6, 8, 10])  # Set x-axis ticks\n",
    "\n",
    "# Adding legend\n",
    "plt.legend([scatter1, scatter2], ['length', 'spacing'])\n",
    "\n",
    "fig.tight_layout()  \n",
    "plt.show()"
   ]
  },
  {
   "cell_type": "code",
   "execution_count": null,
   "metadata": {},
   "outputs": [],
   "source": []
  }
 ],
 "metadata": {
  "kernelspec": {
   "display_name": "Python 3",
   "language": "python",
   "name": "python3"
  },
  "language_info": {
   "codemirror_mode": {
    "name": "ipython",
    "version": 3
   },
   "file_extension": ".py",
   "mimetype": "text/x-python",
   "name": "python",
   "nbconvert_exporter": "python",
   "pygments_lexer": "ipython3",
   "version": "3.11.4"
  }
 },
 "nbformat": 4,
 "nbformat_minor": 2
}
