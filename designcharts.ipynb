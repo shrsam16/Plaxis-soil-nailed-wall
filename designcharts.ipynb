{
 "cells": [
  {
   "cell_type": "code",
   "execution_count": 1,
   "metadata": {},
   "outputs": [],
   "source": [
    "import pandas as pd\n",
    "import numpy as np\n",
    "import os \n",
    "import matplotlib.pyplot as plt\n"
   ]
  },
  {
   "cell_type": "code",
   "execution_count": 2,
   "metadata": {},
   "outputs": [
    {
     "data": {
      "text/html": [
       "<div>\n",
       "<style scoped>\n",
       "    .dataframe tbody tr th:only-of-type {\n",
       "        vertical-align: middle;\n",
       "    }\n",
       "\n",
       "    .dataframe tbody tr th {\n",
       "        vertical-align: top;\n",
       "    }\n",
       "\n",
       "    .dataframe thead th {\n",
       "        text-align: right;\n",
       "    }\n",
       "</style>\n",
       "<table border=\"1\" class=\"dataframe\">\n",
       "  <thead>\n",
       "    <tr style=\"text-align: right;\">\n",
       "      <th></th>\n",
       "      <th>S.N.</th>\n",
       "      <th>E</th>\n",
       "      <th>Gam</th>\n",
       "      <th>phi</th>\n",
       "      <th>C</th>\n",
       "      <th>Neu</th>\n",
       "      <th>dil</th>\n",
       "      <th>ExDep</th>\n",
       "      <th>Bfill</th>\n",
       "      <th>Plthk</th>\n",
       "      <th>FAng</th>\n",
       "      <th>Inc</th>\n",
       "      <th>Sp</th>\n",
       "      <th>Len</th>\n",
       "      <th>FOS</th>\n",
       "      <th>Dis</th>\n",
       "    </tr>\n",
       "  </thead>\n",
       "  <tbody>\n",
       "    <tr>\n",
       "      <th>0</th>\n",
       "      <td>1.0</td>\n",
       "      <td>8000.0</td>\n",
       "      <td>19.5</td>\n",
       "      <td>26.0</td>\n",
       "      <td>25.0</td>\n",
       "      <td>0.35</td>\n",
       "      <td>0.0</td>\n",
       "      <td>6.0</td>\n",
       "      <td>0.0</td>\n",
       "      <td>100.0</td>\n",
       "      <td>5.0</td>\n",
       "      <td>15.0</td>\n",
       "      <td>0.5</td>\n",
       "      <td>1.2</td>\n",
       "      <td>2.304</td>\n",
       "      <td>-0.043</td>\n",
       "    </tr>\n",
       "    <tr>\n",
       "      <th>1</th>\n",
       "      <td>2.0</td>\n",
       "      <td>8000.0</td>\n",
       "      <td>19.5</td>\n",
       "      <td>26.0</td>\n",
       "      <td>25.0</td>\n",
       "      <td>0.35</td>\n",
       "      <td>0.0</td>\n",
       "      <td>6.0</td>\n",
       "      <td>0.0</td>\n",
       "      <td>100.0</td>\n",
       "      <td>5.0</td>\n",
       "      <td>15.0</td>\n",
       "      <td>0.5</td>\n",
       "      <td>1.0</td>\n",
       "      <td>2.146</td>\n",
       "      <td>-0.046</td>\n",
       "    </tr>\n",
       "    <tr>\n",
       "      <th>2</th>\n",
       "      <td>3.0</td>\n",
       "      <td>8000.0</td>\n",
       "      <td>19.5</td>\n",
       "      <td>26.0</td>\n",
       "      <td>25.0</td>\n",
       "      <td>0.35</td>\n",
       "      <td>0.0</td>\n",
       "      <td>6.0</td>\n",
       "      <td>0.0</td>\n",
       "      <td>100.0</td>\n",
       "      <td>5.0</td>\n",
       "      <td>15.0</td>\n",
       "      <td>0.5</td>\n",
       "      <td>0.8</td>\n",
       "      <td>2.004</td>\n",
       "      <td>-0.049</td>\n",
       "    </tr>\n",
       "    <tr>\n",
       "      <th>3</th>\n",
       "      <td>4.0</td>\n",
       "      <td>8000.0</td>\n",
       "      <td>19.5</td>\n",
       "      <td>26.0</td>\n",
       "      <td>25.0</td>\n",
       "      <td>0.35</td>\n",
       "      <td>0.0</td>\n",
       "      <td>6.0</td>\n",
       "      <td>0.0</td>\n",
       "      <td>100.0</td>\n",
       "      <td>5.0</td>\n",
       "      <td>15.0</td>\n",
       "      <td>0.7</td>\n",
       "      <td>1.2</td>\n",
       "      <td>2.187</td>\n",
       "      <td>-0.047</td>\n",
       "    </tr>\n",
       "    <tr>\n",
       "      <th>4</th>\n",
       "      <td>5.0</td>\n",
       "      <td>8000.0</td>\n",
       "      <td>19.5</td>\n",
       "      <td>26.0</td>\n",
       "      <td>25.0</td>\n",
       "      <td>0.35</td>\n",
       "      <td>0.0</td>\n",
       "      <td>6.0</td>\n",
       "      <td>0.0</td>\n",
       "      <td>100.0</td>\n",
       "      <td>5.0</td>\n",
       "      <td>15.0</td>\n",
       "      <td>0.7</td>\n",
       "      <td>1.0</td>\n",
       "      <td>2.022</td>\n",
       "      <td>-0.049</td>\n",
       "    </tr>\n",
       "  </tbody>\n",
       "</table>\n",
       "</div>"
      ],
      "text/plain": [
       "   S.N.       E   Gam   phi     C   Neu  dil  ExDep  Bfill  Plthk  FAng   Inc  \\\n",
       "0   1.0  8000.0  19.5  26.0  25.0  0.35  0.0    6.0    0.0  100.0   5.0  15.0   \n",
       "1   2.0  8000.0  19.5  26.0  25.0  0.35  0.0    6.0    0.0  100.0   5.0  15.0   \n",
       "2   3.0  8000.0  19.5  26.0  25.0  0.35  0.0    6.0    0.0  100.0   5.0  15.0   \n",
       "3   4.0  8000.0  19.5  26.0  25.0  0.35  0.0    6.0    0.0  100.0   5.0  15.0   \n",
       "4   5.0  8000.0  19.5  26.0  25.0  0.35  0.0    6.0    0.0  100.0   5.0  15.0   \n",
       "\n",
       "    Sp  Len    FOS    Dis  \n",
       "0  0.5  1.2  2.304 -0.043  \n",
       "1  0.5  1.0  2.146 -0.046  \n",
       "2  0.5  0.8  2.004 -0.049  \n",
       "3  0.7  1.2  2.187 -0.047  \n",
       "4  0.7  1.0  2.022 -0.049  "
      ]
     },
     "execution_count": 2,
     "metadata": {},
     "output_type": "execute_result"
    }
   ],
   "source": [
    "df = pd.read_csv(os.getcwd() + '/' + 'result.csv')\n",
    "df.head()"
   ]
  },
  {
   "cell_type": "code",
   "execution_count": 17,
   "metadata": {},
   "outputs": [
    {
     "name": "stdout",
     "output_type": "stream",
     "text": [
      "[1.2, 1.0, 0.8]\n",
      "[1.297, 1.151, 0.0]\n",
      "[-0.071, -0.095, -0.053]\n"
     ]
    }
   ],
   "source": [
    "x= []\n",
    "y_fos = []\n",
    "y_dis = [ ]\n",
    "for i in range(len(df)-1):\n",
    "    if (df.iloc[i+1, 1:13] == [6500.0,19.5,26.0,5.0,0.3,0.0,6.0,0.0,100.0,5.0,15.0,0.7]).all():\n",
    "        x.append(df.iloc[i+1 , 13])\n",
    "        y_fos.append(df.iloc[i+1,14])\n",
    "        y_dis.append(df.iloc[i+1, 15])\n",
    "    \n",
    "\n",
    "print(x)\n",
    "print(y_fos)\n",
    "print(y_dis)"
   ]
  },
  {
   "cell_type": "code",
   "execution_count": 1,
   "metadata": {},
   "outputs": [
    {
     "ename": "NameError",
     "evalue": "name 'df' is not defined",
     "output_type": "error",
     "traceback": [
      "\u001b[1;31m---------------------------------------------------------------------------\u001b[0m",
      "\u001b[1;31mNameError\u001b[0m                                 Traceback (most recent call last)",
      "Cell \u001b[1;32mIn[1], line 4\u001b[0m\n\u001b[0;32m      2\u001b[0m y_fos \u001b[38;5;241m=\u001b[39m []\n\u001b[0;32m      3\u001b[0m y_dis \u001b[38;5;241m=\u001b[39m [ ]\n\u001b[1;32m----> 4\u001b[0m \u001b[38;5;28;01mfor\u001b[39;00m i \u001b[38;5;129;01min\u001b[39;00m \u001b[38;5;28mrange\u001b[39m(\u001b[38;5;28mlen\u001b[39m(\u001b[43mdf\u001b[49m)\u001b[38;5;241m-\u001b[39m\u001b[38;5;241m1\u001b[39m):\n\u001b[0;32m      5\u001b[0m     \u001b[38;5;28;01mif\u001b[39;00m (df\u001b[38;5;241m.\u001b[39miloc[i\u001b[38;5;241m+\u001b[39m\u001b[38;5;241m1\u001b[39m, \u001b[38;5;241m1\u001b[39m:\u001b[38;5;241m13\u001b[39m] \u001b[38;5;241m==\u001b[39m [\u001b[38;5;241m6500.0\u001b[39m,\u001b[38;5;241m19.5\u001b[39m,\u001b[38;5;241m26.0\u001b[39m,\u001b[38;5;241m5.0\u001b[39m,\u001b[38;5;241m0.3\u001b[39m,\u001b[38;5;241m0.0\u001b[39m,\u001b[38;5;241m6.0\u001b[39m,\u001b[38;5;241m0.0\u001b[39m,\u001b[38;5;241m100.0\u001b[39m,\u001b[38;5;241m5.0\u001b[39m,\u001b[38;5;241m15.0\u001b[39m,\u001b[38;5;241m0.5\u001b[39m])\u001b[38;5;241m.\u001b[39mall():\n\u001b[0;32m      6\u001b[0m         x\u001b[38;5;241m.\u001b[39mappend(df\u001b[38;5;241m.\u001b[39miloc[i\u001b[38;5;241m+\u001b[39m\u001b[38;5;241m1\u001b[39m , \u001b[38;5;241m13\u001b[39m])\n",
      "\u001b[1;31mNameError\u001b[0m: name 'df' is not defined"
     ]
    }
   ],
   "source": [
    "x= []\n",
    "y_fos = []\n",
    "y_dis = [ ]\n",
    "for i in range(len(df)-1):\n",
    "    if (df.iloc[i+1, 1:13] == [6500.0,19.5,26.0,5.0,0.3,0.0,6.0,0.0,100.0,5.0,15.0,0.5]).all():\n",
    "        x.append(df.iloc[i+1 , 13])\n",
    "        y_fos.append(df.iloc[i+1,14])\n",
    "        y_dis.append(df.iloc[i+1, 15])\n",
    "    \n",
    "\n",
    "print(x)\n",
    "print(y_fos)\n",
    "print(y_dis)"
   ]
  },
  {
   "cell_type": "code",
   "execution_count": 28,
   "metadata": {},
   "outputs": [
    {
     "data": {
      "image/png": "[encoded data removed]",
      "text/plain": [
       "<Figure size 1000x600 with 1 Axes>"
      ]
     },
     "metadata": {},
     "output_type": "display_data"
    }
   ],
   "source": [
    "plt.figure(figsize=(10,6))\n",
    "plt.plot(x, y_fos)\n",
    "plt.xlabel('x')\n",
    "plt.ylabel('y_fos')\n",
    "plt.title('Plot of y_fos against x')\n",
    "plt.show()"
   ]
  },
  {
   "cell_type": "code",
   "execution_count": null,
   "metadata": {},
   "outputs": [],
   "source": []
  }
 ],
 "metadata": {
  "kernelspec": {
   "display_name": "Python 3",
   "language": "python",
   "name": "python3"
  },
  "language_info": {
   "codemirror_mode": {
    "name": "ipython",
    "version": 3
   },
   "file_extension": ".py",
   "mimetype": "text/x-python",
   "name": "python",
   "nbconvert_exporter": "python",
   "pygments_lexer": "ipython3",
   "version": "3.11.4"
  }
 },
 "nbformat": 4,
 "nbformat_minor": 2
}
